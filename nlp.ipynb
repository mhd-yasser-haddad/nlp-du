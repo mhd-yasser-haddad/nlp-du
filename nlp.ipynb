{
  "nbformat": 4,
  "nbformat_minor": 0,
  "metadata": {
    "colab": {
      "provenance": []
    },
    "kernelspec": {
      "display_name": "Python 3",
      "language": "python",
      "name": "python3"
    },
    "language_info": {
      "codemirror_mode": {
        "name": "ipython",
        "version": 3
      },
      "file_extension": ".py",
      "mimetype": "text/x-python",
      "name": "python",
      "nbconvert_exporter": "python",
      "pygments_lexer": "ipython3",
      "version": "3.6.1"
    }
  },
  "cells": [
    {
      "cell_type": "code",
      "metadata": {
        "colab": {
          "resources": {
            "http://localhost:8080/nbextensions/google.colab/files.js": {
              "data": "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",
              "ok": true,
              "headers": [
                [
                  "content-type",
                  "application/javascript"
                ]
              ],
              "status": 200,
              "status_text": ""
            }
          },
          "base_uri": "https://localhost:8080/",
          "height": 72
        },
        "id": "VLiLViXsMcYF",
        "outputId": "d54978bd-9215-4fe8-f6da-5f6bc5adaf83"
      },
      "source": [
        "from google.colab import files\n",
        "uploaded = files.upload()"
      ],
      "execution_count": null,
      "outputs": [
        {
          "output_type": "display_data",
          "data": {
            "text/html": [
              "\n",
              "     <input type=\"file\" id=\"files-d38a77ec-c4e0-44fe-bdce-0a95a76de829\" name=\"files[]\" multiple disabled\n",
              "        style=\"border:none\" />\n",
              "     <output id=\"result-d38a77ec-c4e0-44fe-bdce-0a95a76de829\">\n",
              "      Upload widget is only available when the cell has been executed in the\n",
              "      current browser session. Please rerun this cell to enable.\n",
              "      </output>\n",
              "      <script src=\"/nbextensions/google.colab/files.js\"></script> "
            ],
            "text/plain": [
              "<IPython.core.display.HTML object>"
            ]
          },
          "metadata": {
            "tags": []
          }
        },
        {
          "output_type": "stream",
          "text": [
            "Saving Covid_19_tweets_train.csv to Covid_19_tweets_train (1).csv\n"
          ],
          "name": "stdout"
        }
      ]
    },
    {
      "cell_type": "code",
      "metadata": {
        "id": "YRtBzm5oXQd4"
      },
      "source": [
        "! pip uninstall nltk\n",
        "! pip install -U nltk\n",
        "import nltk\n",
        "nltk.download('all')"
      ],
      "execution_count": null,
      "outputs": []
    },
    {
      "cell_type": "code",
      "metadata": {
        "collapsed": true,
        "id": "KtmPvOJZMaOE"
      },
      "source": [
        "%matplotlib inline\n",
        "import io\n",
        "import re\n",
        "import nltk\n",
        "import string\n",
        "import requests\n",
        "import numpy as np\n",
        "import pandas as pd\n",
        "from collections import Counter\n",
        "from scipy import sparse as sp_sparse\n",
        "\n",
        "# NLTK\n",
        "from nltk.lm import MLE\n",
        "from nltk.util import ngrams\n",
        "from nltk.corpus import wordnet\n",
        "from nltk.collocations import *\n",
        "from nltk.corpus import stopwords\n",
        "from nltk.stem import WordNetLemmatizer\n",
        "from nltk.metrics import BigramAssocMeasures\n",
        "from nltk.tokenize import word_tokenize, TweetTokenizer\n",
        "from nltk.tokenize.treebank import TreebankWordDetokenizer\n",
        "from nltk.lm.preprocessing import padded_everygram_pipeline\n",
        "\n",
        "# sklearn\n",
        "from sklearn.metrics import accuracy_score\n",
        "from sklearn.multiclass import OneVsRestClassifier\n",
        "from sklearn.model_selection import train_test_split\n",
        "from sklearn.feature_extraction.text import TfidfVectorizer\n",
        "from sklearn.feature_extraction.text import CountVectorizer\n",
        "from sklearn.linear_model import LogisticRegression, RidgeClassifier\n",
        "\n",
        "# Keras\n",
        "from keras.layers import Dense\n",
        "from keras.datasets import imdb\n",
        "from keras.layers import Flatten\n",
        "from keras.models import Sequential\n",
        "from keras.preprocessing import sequence\n",
        "from keras.layers.embeddings import Embedding\n",
        "from keras.layers.convolutional import Conv1D\n",
        "from keras.layers.convolutional import MaxPooling1D"
      ],
      "execution_count": null,
      "outputs": []
    },
    {
      "cell_type": "code",
      "metadata": {
        "collapsed": true,
        "id": "f-koE4Q_MaOF"
      },
      "source": [
        "def filterTweet(tweet):\n",
        "    stop_words = set(stopwords.words('english'))\n",
        "    lemmatizer = WordNetLemmatizer()\n",
        "\n",
        "    # Removing links\n",
        "    filteredTweet = re.sub(r\"http\\S+\", '', tweet)\n",
        "\n",
        "    # Making the letters lowercase\n",
        "    filteredTweet = filteredTweet.lower()\n",
        "\n",
        "    # Removing punctuation\n",
        "    # The list of punctuation is taken from string.punctuation but removed the hashtags and @\n",
        "    # Removed the # to use them later, and removed to the @ to remove the persons name since we don't need it\n",
        "    filteredTweet = filteredTweet.translate(str.maketrans('', '', '!\"$%&\\'()*+,-./:;<=>?[\\\\]^_`{|}~'))\n",
        "\n",
        "    # Removing persons names and persons tags\n",
        "    filteredTweet = re.sub(r\"@(\\w+)\", '', filteredTweet)\n",
        "\n",
        "    # Removing stopwords\n",
        "    tweetTokenizer = TweetTokenizer()\n",
        "    tokens = tweetTokenizer.tokenize(filteredTweet)\n",
        "    result = [i for i in tokens if not i in stop_words]\n",
        "    filteredTweet = \" \".join(result)\n",
        "\n",
        "    # Removing extra whitespaces\n",
        "    filteredTweet = filteredTweet.strip()\n",
        "\n",
        "    # Lemmatization\n",
        "    filteredTweetWords = filteredTweet.split()\n",
        "    lemmatizerTweetWords = [lemmatizer.lemmatize(word) for word in filteredTweetWords]\n",
        "    lemmatizedTweet = ' '.join(lemmatizerTweetWords)\n",
        "\n",
        "    return lemmatizedTweet\n",
        "\n",
        "# Filter tweet with removing hashtags\n",
        "def filterTweetHashtags(tweet):\n",
        "    filteredTweet = filterTweet(tweet)\n",
        "    filteredTweet = re.sub(r\"#(\\w+)\", '', filteredTweet)\n",
        "    return filteredTweet\n",
        "\n",
        "# Remove hashtags from tweet\n",
        "def removeHashtags(tweet):\n",
        "    # Removing persons names and persons tags\n",
        "    filteredTweet = re.sub(r\"#(\\w+)\", '', tweet)\n",
        "    return filteredTweet\n",
        "\n",
        "# Cleaning result function for lists\n",
        "def cleaning_result(tweets):\n",
        "    return [filterTweet(tweet) for tweet in tweets]"
      ],
      "execution_count": null,
      "outputs": []
    },
    {
      "cell_type": "code",
      "metadata": {
        "id": "AKn0BpNemw_9"
      },
      "source": [
        "# Getting the tweets and filtering them\n",
        "# url = 'https://gitlab.com/mhd-yasser-haddad/nlp/-/blob/master/Covid_19_tweets_train.csv'\n",
        "# s = requests.get(url).content\n",
        "# c = pd.read_csv(io.StringIO(s.decode('latin1')), error_bad_lines=False)\n",
        "# list(c['OriginalTweet'])\n",
        "# tweetsContent = pd.read_csv(url, encoding='latin1',header='Content-Type: text/csv')\n",
        "tweetsContent = pd.read_csv(io.BytesIO(uploaded['Covid_19_tweets_train.csv']), encoding='latin1')\n",
        "# tweetsContent = pd.read_csv('Covid_19_tweets_train.csv', encoding='latin1')"
      ],
      "execution_count": null,
      "outputs": []
    },
    {
      "cell_type": "code",
      "metadata": {
        "id": "8q8u-3jqMaOH",
        "scrolled": false
      },
      "source": [
        "originalTweets = list(tweetsContent['OriginalTweet'])\n",
        "originalSentiment = list(tweetsContent['Sentiment'])\n",
        "filteredTweets = [filterTweet(tweet) for tweet in originalTweets if filterTweet(tweet) != '']\n",
        "\n",
        "# Getting the locations\n",
        "locationsNotFiltered = list(tweetsContent['Location'])\n",
        "locations = [location for location in locationsNotFiltered if location != '' and location is not None]"
      ],
      "execution_count": null,
      "outputs": []
    },
    {
      "cell_type": "code",
      "metadata": {
        "colab": {
          "base_uri": "https://localhost:8080/",
          "height": 1000
        },
        "id": "pSF5S-JfMaOI",
        "outputId": "9c9c15d7-3af6-4639-cf42-0b96a9db4149"
      },
      "source": [
        "# Joining all tweets to analyize them\n",
        "allTweets = ' '.join(str(s) for s in filteredTweets)\n",
        "allTweetsWords = allTweets.split()\n",
        "wordsNoHashtags = [w for w in allTweetsWords if not re.match(r\"#(\\w+)\",w)]\n",
        "words = [w for w in allTweetsWords]\n",
        "\n",
        "# Tokenizing the tweets\n",
        "tweetTokenizer = TweetTokenizer()\n",
        "tokens = tweetTokenizer.tokenize(allTweets)\n",
        "\n",
        "\n",
        "# Bigrams\n",
        "bigrams = nltk.bigrams(tokens)\n",
        "frequentBigrams = nltk.FreqDist(bigrams)\n",
        "\n",
        "print('Most common Bigrams:')\n",
        "print(frequentBigrams.most_common()[:10])\n",
        "print('')\n",
        "\n",
        "\n",
        "# Trigrams\n",
        "trigrams = nltk.trigrams(tokens)\n",
        "frequentTrigrams = nltk.FreqDist(trigrams)\n",
        "\n",
        "print('Most common Trigrams:')\n",
        "print(frequentTrigrams.most_common()[:10])\n",
        "print('')\n",
        "\n",
        "\n",
        "# Bigram collocations\n",
        "bigramMeasures = nltk.collocations.BigramAssocMeasures()\n",
        "finder = nltk.collocations.BigramCollocationFinder.from_words(words)\n",
        "finder.apply_freq_filter(1)\n",
        "bigramCollections = finder.nbest(bigramMeasures.likelihood_ratio, 15)\n",
        "\n",
        "print('Most common Bigrams Collocations:')\n",
        "print(bigramCollections[:15])\n",
        "print('')\n",
        "\n",
        "\n",
        "# Most and Least common words\n",
        "commonWords = nltk.FreqDist(tokens)\n",
        "print('Most Common Words:')\n",
        "print(commonWords.most_common()[:20])\n",
        "print('')\n",
        "\n",
        "commonWordsPlot = nltk.FreqDist(dict(commonWords.most_common()[:20]))\n",
        "print('Most Common Words Plot:')\n",
        "commonWordsPlot.plot()\n",
        "print('')\n",
        "\n",
        "\n",
        "leastCommonWords = nltk.FreqDist(wordsNoHashtags)\n",
        "print('Least Common Words:')\n",
        "print(leastCommonWords.most_common()[-20:])\n",
        "print('')\n",
        "\n",
        "# Typos in tweets\n",
        "typoWords = [w for w in wordsNoHashtags if not wordnet.synsets(w) ]\n",
        "print('Typo Words:')\n",
        "print(typoWords[:10])\n",
        "print('')\n",
        "\n",
        "# Finding the most used hashtags\n",
        "hashtags = re.findall(r\"#(\\w+)\", allTweets)\n",
        "print('Most used Hashtags:')\n",
        "print(Counter(hashtags).most_common(10))\n",
        "print('')\n",
        "\n",
        "# The most tweeted locations and plotting them\n",
        "locationFreq = nltk.FreqDist(locations)\n",
        "locationFreqPlot = nltk.FreqDist(dict(locationFreq.most_common(10)))\n",
        "print('Location:')\n",
        "print(locationFreq.most_common(20))\n",
        "print('')\n",
        "print('Locations Plot:')\n",
        "locationFreqPlot.plot()"
      ],
      "execution_count": null,
      "outputs": [
        {
          "output_type": "stream",
          "text": [
            "Most common Bigrams:\n",
            "[(('covid', '19'), 10356), (('grocery', 'store'), 5021), (('#coronavirus', '#covid19'), 1891), (('#covid19', '#coronavirus'), 1688), (('hand', 'sanitizer'), 1491), (('online', 'shopping'), 1303), (('toilet', 'paper'), 1231), (('â', '\\x93'), 1118), (('panic', 'buying'), 1053), (('iâ', '\\x92'), 1016)]\n",
            "\n",
            "Most common Trigrams:\n",
            "[(('covid', '19', 'pandemic'), 888), (('due', 'covid', '19'), 564), (('grocery', 'store', 'worker'), 483), (('covid', '19', 'outbreak'), 380), (('covid', '19', 'crisis'), 378), (('amid', 'covid', '19'), 323), (('go', 'grocery', 'store'), 298), (('grocery', 'store', 'employee'), 273), (('spread', 'covid', '19'), 246), (('going', 'grocery', 'store'), 205)]\n",
            "\n",
            "Most common Bigrams Collocations:\n",
            "[('covid', '19'), ('grocery', 'store'), ('toilet', 'paper'), ('hand', 'sanitizer'), ('â', '\\x93'), ('panic', 'buying'), ('online', 'shopping'), ('iâ', '\\x92'), ('social', 'distancing'), ('itâ', '\\x92'), ('donâ', '\\x92'), ('oil', 'price'), ('#coronavirus', '#covid19'), ('#covid19', '#coronavirus'), ('supply', 'chain')]\n",
            "\n",
            "Most Common Words:\n",
            "[('#coronavirus', 15930), ('19', 11351), ('covid', 10590), ('#covid19', 9274), ('price', 8823), ('store', 8089), ('supermarket', 7235), ('\\x92', 7155), ('food', 6912), ('grocery', 6484), ('people', 5537), ('amp', 4957), ('consumer', 4880), ('shopping', 3346), ('online', 3329), ('need', 3213), ('time', 3083), ('get', 3031), ('u', 2917), ('worker', 2864)]\n",
            "\n",
            "Most Common Words Plot:\n"
          ],
          "name": "stdout"
        },
        {
          "output_type": "stream",
          "text": [
            "/usr/local/lib/python3.6/dist-packages/matplotlib/backends/backend_agg.py:214: RuntimeWarning: Glyph 146 missing from current font.\n",
            "  font.set_text(s, 0.0, flags=flags)\n",
            "/usr/local/lib/python3.6/dist-packages/matplotlib/backends/backend_agg.py:183: RuntimeWarning: Glyph 146 missing from current font.\n",
            "  font.set_text(s, 0, flags=flags)\n"
          ],
          "name": "stderr"
        },
        {
          "output_type": "display_data",
          "data": {
            "image/png": "[encoded data removed]",
            "text/plain": [
              "<Figure size 432x288 with 1 Axes>"
            ]
          },
          "metadata": {
            "tags": [],
            "needs_background": "light"
          }
        },
        {
          "output_type": "stream",
          "text": [
            "\n",
            "Least Common Words:\n",
            "[('studyâ', 1), ('authenticate', 1), ('sneakerheads', 1), ('agtech', 1), ('traction', 1), ('rampups', 1), ('sunset', 1), ('squeo', 1), ('carifika', 1), ('gampg', 1), ('reservoir', 1), ('jaffri', 1), ('171525ounce', 1), ('172220', 1), ('rs46215', 1), ('rejecting', 1), ('martinsville', 1), ('newused', 1), ('rift', 1), ('whethe', 1)]\n",
            "\n",
            "Typo Words:\n",
            "['coronavirus', 'amid', 'covid', 'dont', 'everyone', 'im', 'litteraly', 'dont', 'regionâ', '\\x92']\n",
            "\n",
            "Most used Hashtags:\n",
            "[('coronavirus', 15935), ('covid19', 9276), ('covid2019', 1673), ('toiletpaper', 1613), ('socialdistancing', 944), ('coronacrisis', 767), ('pandemic', 477), ('stayhome', 456), ('coronavirusoutbreak', 440), ('coronaviruspandemic', 440)]\n",
            "\n",
            "Location:\n",
            "[(nan, 8590), ('London', 540), ('United States', 528), ('London, England', 520), ('New York, NY', 395), ('Washington, DC', 373), ('United Kingdom', 337), ('Los Angeles, CA', 281), ('India', 268), ('UK', 232), ('Australia', 225), ('USA', 223), ('Canada', 191), ('England, United Kingdom', 191), ('Toronto, Ontario', 160), ('Global', 159), ('Chicago, IL', 155), ('California, USA', 153), ('San Francisco, CA', 152), ('Boston, MA', 150)]\n",
            "\n",
            "Locations Plot:\n"
          ],
          "name": "stdout"
        },
        {
          "output_type": "display_data",
          "data": {
            "image/png": "[encoded data removed]",
            "text/plain": [
              "<Figure size 432x288 with 1 Axes>"
            ]
          },
          "metadata": {
            "tags": [],
            "needs_background": "light"
          }
        },
        {
          "output_type": "execute_result",
          "data": {
            "text/plain": [
              "<matplotlib.axes._subplots.AxesSubplot at 0x7f39a4fc6c88>"
            ]
          },
          "metadata": {
            "tags": []
          },
          "execution_count": 10
        }
      ]
    },
    {
      "cell_type": "code",
      "metadata": {
        "id": "7D03VPuchjtI"
      },
      "source": [
        "# Language Model\n",
        "detokenize = TreebankWordDetokenizer().detokenize\n",
        "\n",
        "def generateSent(model, num_words, random_seed=42):\n",
        "    content = []\n",
        "    for token in model.generate(num_words, random_seed=random_seed):\n",
        "        if token == '<s>':\n",
        "            continue\n",
        "        if token == '</s>':\n",
        "            break\n",
        "        content.append(token)\n",
        "    return detokenize(content)\n",
        "\n",
        "\n",
        "tweetsCorpus = list(tweetsContent['OriginalTweet'].apply(word_tokenize))\n",
        "\n",
        "# Preprocess the tokenized text for 3-grams language modelling\n",
        "n = 3\n",
        "trainData, paddedSents = padded_everygram_pipeline(n, tweetsCorpus)\n",
        "\n",
        "tweetsModel = MLE(n) # Lets train a 3-grams model, previously we set n=3\n",
        "tweetsModel.fit(trainData, paddedSents)"
      ],
      "execution_count": null,
      "outputs": []
    },
    {
      "cell_type": "code",
      "metadata": {
        "colab": {
          "base_uri": "https://localhost:8080/"
        },
        "id": "Z_5j6FNwMaOJ",
        "outputId": "4bff91f1-7f5b-4e7b-b37f-f1ab5b1602f9"
      },
      "source": [
        "print(generateSent(tweetsModel, num_words=20, random_seed=7))\n",
        "print(generateSent(tweetsModel, num_words=10, random_seed=0))\n",
        "print(generateSent(tweetsModel, num_words=50, random_seed=10))\n",
        "print(generateSent(tweetsModel, num_words=100, random_seed=1))"
      ],
      "execution_count": null,
      "outputs": [
        {
          "output_type": "stream",
          "text": [
            "FridayThoughts #coronavirus #coronavirusmemes #BreakingNews #Breaking - Americans are forced to close all retail works who are\n",
            "spicejet .. I don't have to get into the\n",
            "farmersmarket is not an opportunity to raise drug prices NO election security needs to stick to instructions . We don't panic, stay strong to fight #COVID #smallbusiness #online shopping affected your #FinancialHealth2020? Visit https: //t.co/PPJejQnm0u\n",
            "800 more dead in Italy Deaths include a 48 hour shift and the #coronavirus bail-out cash from those displaced by violence living in Germany What is humanity if not ALL) your #coffee #stockup #skinnywine #skinnybooze https: //t.co/KTGTl4om3f\n"
          ],
          "name": "stdout"
        }
      ]
    },
    {
      "cell_type": "code",
      "metadata": {
        "id": "WAR7BnZEMaOO"
      },
      "source": [
        "# Get test and train data\n",
        "def getTrainTest(tweets):\n",
        "  training_set_size = int(len(tweets)*0.70)\n",
        "  X = [tweet[0] for tweet in tweets]\n",
        "  y = [tweet[1] for tweet in tweets]\n",
        "\n",
        "  X_train = X[:training_set_size]\n",
        "  y_train = y[:training_set_size]\n",
        "\n",
        "  X_test = X[training_set_size:]\n",
        "  y_test = y[training_set_size:]\n",
        "\n",
        "  return X_train, y_train, X_test, y_test\n",
        "\n",
        "# Bag of words\n",
        "def bagOfWords(text, words_to_index, dict_size):\n",
        "    result_vector = np.zeros(dict_size)\n",
        "    tokens = text.split(' ')\n",
        "    for token in tokens:\n",
        "         if token in words_to_index:\n",
        "            index = words_to_index[token]\n",
        "            result_vector[index]=1\n",
        "    return result_vector\n",
        "\n",
        "def executeBagOfWords(X_train, X_test):\n",
        "  all_words = ' '.join(X_train)\n",
        "  tokenizer = nltk.tokenize.WhitespaceTokenizer()\n",
        "  tokens = tokenizer.tokenize(all_words)\n",
        "  all_words_freq = nltk.FreqDist(tokens)\n",
        "\n",
        "  DICT_SIZE = 5000\n",
        "  INDEX_TO_WORDS = {i:word[0] for i,word in enumerate(all_words_freq.most_common(DICT_SIZE))}\n",
        "  WORDS_TO_INDEX = {word:i for i,word in INDEX_TO_WORDS.items()}\n",
        "  ALL_WORDS= WORDS_TO_INDEX.keys()\n",
        "\n",
        "  X_train_mybag = sp_sparse.vstack([sp_sparse.csr_matrix(bagOfWords(text, WORDS_TO_INDEX, DICT_SIZE)) for text in X_train])\n",
        "  X_test_mybag = sp_sparse.vstack([sp_sparse.csr_matrix(bagOfWords(text, WORDS_TO_INDEX, DICT_SIZE)) for text in X_test])\n",
        "\n",
        "  return X_train_mybag, X_test_mybag\n",
        "\n",
        "# TF-IDF\n",
        "def tfidf(X_train, X_test):\n",
        "    tfidf_vectorizer = TfidfVectorizer()\n",
        "    tfidf_vectorizer.fit(X_train) #calcualate the values\n",
        "    X_train = tfidf_vectorizer.transform(X_train) #make the vectors\n",
        "    X_test = tfidf_vectorizer.transform(X_test)\n",
        "    return X_train, X_test, tfidf_vectorizer.vocabulary_"
      ],
      "execution_count": null,
      "outputs": []
    },
    {
      "cell_type": "code",
      "metadata": {
        "id": "_LpS5UTPSaDp"
      },
      "source": [
        "# Classifier\n",
        "def train_classifier(X_train, y_train):\n",
        "    classifier = RidgeClassifier()\n",
        "    classifier.fit(X_train, y_train)\n",
        "    return classifier\n",
        "\n",
        "def useClassifier(X_train, y_train, X_test, y_test):\n",
        "  classifier = train_classifier(X_train, y_train)\n",
        "  y_test_predicted_labels = classifier.predict(X_test)\n",
        "  y_test_predicted_scores = classifier.decision_function(X_test)\n",
        "  print('Accuracy: '+ str(accuracy_score(y_test, y_test_predicted_labels)))"
      ],
      "execution_count": null,
      "outputs": []
    },
    {
      "cell_type": "code",
      "metadata": {
        "id": "EkuZc1VyMaOP"
      },
      "source": [
        "def testing_result(filename):\n",
        "  tweetsContent = pd.read_csv(io.BytesIO(uploaded[filename]), encoding='latin1')\n",
        "  # tweetsContent = pd.read_csv(filename, encoding='latin1')\n",
        "  originalTweets = list(tweetsContent['OriginalTweet'])\n",
        "  originalSentiment = list(tweetsContent['Sentiment'])\n",
        "\n",
        "  # tweets with Sentiment\n",
        "  tweetsWithSentiment = [(originalTweets[i], originalSentiment[i]) for i in range(0, len(originalTweets))]\n",
        "  tweetsWithSentimentFiltered = [(filterTweet(tweet[0]), tweet[1]) for tweet in tweetsWithSentiment if filterTweet(tweet[0]) != '']\n",
        "  tweetsWithSentimentFilteredNoHashtags = [(filterTweetHashtags(tweet[0]), tweet[1]) for tweet in tweetsWithSentiment if filterTweetHashtags(tweet[0]) != '']\n",
        "\n",
        "  # tweets with two Sentiment (positive - negative)\n",
        "  # tweetsWith2Sentiment = [(originalTweets[i], originalSentiment[i]) for i in range(0, len(originalTweets))]\n",
        "  # tweetsWith2SentimentFiltered = [(filterTweet(tweet[0]), 'Positive' if tweet[1] == 'Positive' or tweet[1] == 'Extremely Positive' else 'Negative') for tweet in tweetsWith2Sentiment if filterTweet(tweet[0]) != '' and tweet[1] != 'Neutral']\n",
        "  # tweetsWith2SentimentFilteredNoHashtags = [(filterTweetHashtags(tweet[0]), 'Positive' if tweet[1] == 'Positive' or tweet[1] == 'Extremely Positive' else 'Negative') for tweet in tweetsWith2Sentiment if filterTweetHashtags(tweet[0]) != '']\n",
        "\n",
        "  # Classify\n",
        "  X_train, y_train, X_test, y_test = getTrainTest(tweetsWithSentimentFilteredNoHashtags)\n",
        "  X_train_mybag, X_test_mybag = executeBagOfWords(X_train, X_test)\n",
        "  X_train_tfidf, X_test_tfidf, tfidf_vocab = tfidf(X_train, X_test)\n",
        "  useClassifier(X_train_mybag, y_train, X_test_mybag, y_test)\n",
        "  useClassifier(X_train_tfidf, y_train, X_test_tfidf, y_test)"
      ],
      "execution_count": null,
      "outputs": []
    },
    {
      "cell_type": "code",
      "metadata": {
        "colab": {
          "base_uri": "https://localhost:8080/"
        },
        "id": "0XP_nGF8WeDN",
        "outputId": "739154c8-f05f-430c-9dcf-8aeb90a6f854"
      },
      "source": [
        "testing_result('Covid_19_tweets_train.csv')"
      ],
      "execution_count": null,
      "outputs": [
        {
          "output_type": "stream",
          "text": [
            "Accuracy: 0.5149108589951378\n",
            "Accuracy: 0.523419773095624\n"
          ],
          "name": "stdout"
        }
      ]
    },
    {
      "cell_type": "code",
      "metadata": {
        "id": "o4gVisWzutLB"
      },
      "source": [
        "print(X_train_tfidf)"
      ],
      "execution_count": null,
      "outputs": []
    },
    {
      "cell_type": "code",
      "metadata": {
        "colab": {
          "base_uri": "https://localhost:8080/"
        },
        "id": "IuVQC8a4_4X1",
        "outputId": "472e19a7-bd90-48fd-c8fd-0612298bf4aa"
      },
      "source": [
        " from prettytable import PrettyTable\n",
        " resultsTable = PrettyTable([\"model/ test\", \"binary with hashtags\", \"binry without hashtag\", \"multi-class without hashtags\",\"multi-class with hashtags\"])\n",
        "\n",
        "resultsTable.add_row([\"Bag Of Words\", \"{:.4f}\".format(0.8493969899332203), \"{:.4f}\".format(0.8298217179902755), \"{:.4f}\".format(0.5149108589951378) , \"{:.4f}\".format(0.5047402965724009)])\n",
        "resultsTable.add_row([\"TF/IDF\", \"{:.4f}\".format(0.8553772550583076), \"{:.4f}\".format(0.846839546191248),\"{:.4f}\".format(0.523419773095624),\"{:.4f}\".format(0.5138157361640061)])\n",
        "\n",
        "print(resultsTable)"
      ],
      "execution_count": null,
      "outputs": [
        {
          "output_type": "stream",
          "text": [
            "+--------------+----------------------+-----------------------+------------------------------+---------------------------+\n",
            "| model/ test  | binary with hashtags | binry without hashtag | multi-class without hashtags | multi-class with hashtags |\n",
            "+--------------+----------------------+-----------------------+------------------------------+---------------------------+\n",
            "| Bag Of Words |        0.8494        |         0.8298        |            0.5149            |           0.5047          |\n",
            "|    TF/IDF    |        0.8554        |         0.8468        |            0.5234            |           0.5138          |\n",
            "+--------------+----------------------+-----------------------+------------------------------+---------------------------+\n"
          ],
          "name": "stdout"
        }
      ]
    },
    {
      "cell_type": "code",
      "metadata": {
        "colab": {
          "base_uri": "https://localhost:8080/"
        },
        "id": "ZddIl_tlqnNM",
        "outputId": "c17d0ce3-9a49-4aba-8efe-6ac2489c8f23"
      },
      "source": [
        "top_words = 7000\n",
        "\n",
        "sentences = tweetsContent['OriginalTweet'].values\n",
        "y = tweetsContent['Sentiment'].values\n",
        "sentencesFiltered = []\n",
        "yFiltered = []\n",
        "\n",
        "# Filtering the tweets\n",
        "# for i in range(0, len(sentences)):\n",
        "#   filteredTweet = filterTweetHashtags(sentences[i])\n",
        "#   if filteredTweet != '' and filteredTweet is not None:\n",
        "#     sentencesFiltered.append(filterTweet)\n",
        "#     yFiltered.append(y[i])\n",
        "\n",
        "sentences_train, sentences_test, y_train, y_test = train_test_split(sentences, y, test_size=0.25, random_state=1000)\n",
        "\n",
        "# Coverting to numpy.ndarray\n",
        "# sentences_train = np.array(sentences_train)\n",
        "# sentences_test = np.array(sentences_test)\n",
        "# y_train = np.array(y_train)\n",
        "# y_test = np.array(y_test)\n",
        "\n",
        "vectorizer = CountVectorizer()\n",
        "vectorizer.fit(sentences_train)\n",
        "X_train = vectorizer.transform(sentences_train)\n",
        "X_test  = vectorizer.transform(sentences_test)\n",
        "\n",
        "# Looking at the nature of training data\n",
        "print(X_train[0])\n",
        "print(y_train[0])\n",
        "print('Shape of training data: ')\n",
        "print(X_train.shape)\n",
        "print(y_train.shape)\n",
        "print('Shape of test data: ')\n",
        "print(X_test.shape)\n",
        "print(y_test.shape)\n",
        "\n",
        "X_train = X_train.todense()"
      ],
      "execution_count": null,
      "outputs": [
        {
          "output_type": "stream",
          "text": [
            "  (0, 6505)\t1\n",
            "  (0, 14813)\t1\n",
            "  (0, 17079)\t1\n",
            "  (0, 25215)\t1\n",
            "  (0, 29508)\t1\n",
            "  (0, 41801)\t1\n",
            "  (0, 45480)\t1\n",
            "  (0, 47977)\t1\n",
            "Negative\n",
            "Shape of training data: \n",
            "(30867, 65786)\n",
            "(30867,)\n",
            "Shape of test data: \n",
            "(10290, 65786)\n",
            "(10290,)\n"
          ],
          "name": "stdout"
        }
      ]
    },
    {
      "cell_type": "code",
      "metadata": {
        "colab": {
          "base_uri": "https://localhost:8080/"
        },
        "id": "jwUgQ7Bib168",
        "outputId": "1376cac5-436d-4dd8-b017-4da16f3775a8"
      },
      "source": [
        "classifier = LogisticRegression()\n",
        "classifier.fit(X_train, y_train)\n",
        "score = classifier.score(X_test, y_test)\n",
        "\n",
        "print(\"Accuracy:\", score)"
      ],
      "execution_count": null,
      "outputs": [
        {
          "output_type": "stream",
          "text": [
            "Accuracy: 0.6129251700680272\n"
          ],
          "name": "stdout"
        },
        {
          "output_type": "stream",
          "text": [
            "/usr/local/lib/python3.6/dist-packages/sklearn/linear_model/_logistic.py:940: ConvergenceWarning: lbfgs failed to converge (status=1):\n",
            "STOP: TOTAL NO. of ITERATIONS REACHED LIMIT.\n",
            "\n",
            "Increase the number of iterations (max_iter) or scale the data as shown in:\n",
            "    https://scikit-learn.org/stable/modules/preprocessing.html\n",
            "Please also refer to the documentation for alternative solver options:\n",
            "    https://scikit-learn.org/stable/modules/linear_model.html#logistic-regression\n",
            "  extra_warning_msg=_LOGISTIC_SOLVER_CONVERGENCE_MSG)\n"
          ],
          "name": "stderr"
        }
      ]
    },
    {
      "cell_type": "code",
      "metadata": {
        "id": "ZQste4nStfqM"
      },
      "source": [
        "maxlen = 100\n",
        "X_train = sequence.pad_sequences(X_train, padding='post', maxlen=maxlen)\n",
        "X_test = sequence.pad_sequences(X_test, padding='post', maxlen=maxlen)\n",
        "# Building the CNN Model\n",
        "model = Sequential()      # initilaizing the Sequential nature for CNN model\n",
        "# Adding the embedding layer which will take in maximum of 450 words as input and provide a 32 dimensional output of those words which belong in the top_words dictionary\n",
        "model.add(Embedding(top_words, 32, input_length=max_words))\n",
        "model.add(Conv1D(32, 3, padding='same', activation='relu'))\n",
        "model.add(MaxPooling1D())\n",
        "model.add(Flatten())\n",
        "model.add(Dense(250, activation='relu'))\n",
        "model.add(Dense(5, activation='softmax'))"
      ],
      "execution_count": null,
      "outputs": []
    },
    {
      "cell_type": "code",
      "metadata": {
        "colab": {
          "base_uri": "https://localhost:8080/"
        },
        "id": "omTUV1xttjik",
        "outputId": "1c09b339-e898-4f1c-a548-02f86c5e5978"
      },
      "source": [
        "model.compile(loss='binary_crossentropy', optimizer='adam', metrics=['accuracy'])\n",
        "model.summary()"
      ],
      "execution_count": null,
      "outputs": [
        {
          "output_type": "stream",
          "text": [
            "Model: \"sequential_2\"\n",
            "_________________________________________________________________\n",
            "Layer (type)                 Output Shape              Param #   \n",
            "=================================================================\n",
            "embedding_1 (Embedding)      (None, 100, 32)           224000    \n",
            "_________________________________________________________________\n",
            "conv1d_1 (Conv1D)            (None, 100, 32)           3104      \n",
            "_________________________________________________________________\n",
            "max_pooling1d_1 (MaxPooling1 (None, 50, 32)            0         \n",
            "_________________________________________________________________\n",
            "flatten_1 (Flatten)          (None, 1600)              0         \n",
            "_________________________________________________________________\n",
            "dense_2 (Dense)              (None, 250)               400250    \n",
            "_________________________________________________________________\n",
            "dense_3 (Dense)              (None, 5)                 1255      \n",
            "=================================================================\n",
            "Total params: 628,609\n",
            "Trainable params: 628,609\n",
            "Non-trainable params: 0\n",
            "_________________________________________________________________\n"
          ],
          "name": "stdout"
        }
      ]
    },
    {
      "cell_type": "code",
      "metadata": {
        "id": "uSP6H94HtqAJ"
      },
      "source": [
        "# Fitting the data onto model\n",
        "model.fit(X_train, y_train, validation_data=(X_test, y_test), epochs=2, batch_size=128, verbose=2)\n",
        "# Getting score metrics from our model\n",
        "scores = model.evaluate(X_test, y_test, verbose=0)\n",
        "# Displays the accuracy of correct sentiment prediction over test data\n",
        "print(\"Accuracy: %.2f%%\" % (scores[1]*100))"
      ],
      "execution_count": null,
      "outputs": []
    },
    {
      "cell_type": "code",
      "metadata": {
        "colab": {
          "base_uri": "https://localhost:8080/"
        },
        "id": "k58NQGzGMaOQ",
        "outputId": "dece5bc5-59cf-46de-a811-d496c9eb0b90"
      },
      "source": [
        "def print_words_for_tag(classifier, index_to_words):\n",
        "    top_positive_words = [index_to_words[index] for index in classifier.coef_.argsort().tolist()[0][-5:]]  # top-5 words sorted by the coefficiens.\n",
        "    top_negative_words = [index_to_words[index] for index in classifier.coef_.argsort().tolist()[0][:5]] # bottom-5 words  sorted by the coefficients.\n",
        "    print('Top Possitive Words:\\t{}'.format(', '.join(top_positive_words)))\n",
        "    print('Top Negative Words:\\t{}\\n'.format(', '.join(top_negative_words)))\n",
        "\n",
        "print('______________________________\\nClassifier: \\t {} '.format('Bag of words'))\n",
        "print_words_for_tag(classifier_mybag, INDEX_TO_WORDS)\n",
        "\n",
        "print('______________________________\\nClassifier: \\t {} '.format('IF-IDF',))\n",
        "print_words_for_tag(classifier_tfidf, {i:word for word,i in tfidf_vocab.items()})"
      ],
      "execution_count": null,
      "outputs": [
        {
          "output_type": "stream",
          "text": [
            "______________________________\n",
            "Classifier: \t Bag of words \n",
            "Top Possitive Words:\tcurious, luckily, thankfully, hilarious, confidence\n",
            "Top Negative Words:\tbullshit, unfair, freak, shitty, failing\n",
            "\n",
            "______________________________\n",
            "Classifier: \t IF-IDF \n",
            "Top Possitive Words:\thelp, hand, free, positive, like\n",
            "Top Negative Words:\tcrisis, panic, poor, kill, bullshit\n",
            "\n"
          ],
          "name": "stdout"
        }
      ]
    },
    {
      "cell_type": "code",
      "metadata": {
        "collapsed": true,
        "id": "J8ntwLenMaOQ"
      },
      "source": [],
      "execution_count": null,
      "outputs": []
    }
  ]
}